{
 "cells": [
  {
   "cell_type": "code",
   "execution_count": 1,
   "id": "890e03fd",
   "metadata": {},
   "outputs": [],
   "source": [
    "# authors: \n",
    "# Aniket Narendra Patil ap8504@rit.edu, \n",
    "# Shreya Pramod  sp3045@rit.edu, \n",
    "# Disha Revandkar dr6742@rit.edu\n",
    "\n",
    "#Importing necessary libraries\n",
    "import pandas as pd\n",
    "import matplotlib.pyplot as plt\n",
    "import seaborn as sns\n",
    "import numpy as np"
   ]
  },
  {
   "cell_type": "code",
   "execution_count": 2,
   "id": "464a8a09",
   "metadata": {},
   "outputs": [],
   "source": [
    "#Importing csv file to pandas DataFrame\n",
    "df = pd.read_csv('appl_3_amazon_furniture.csv')"
   ]
  },
  {
   "cell_type": "code",
   "execution_count": 3,
   "id": "3c749258",
   "metadata": {},
   "outputs": [
    {
     "data": {
      "text/html": [
       "<div>\n",
       "<style scoped>\n",
       "    .dataframe tbody tr th:only-of-type {\n",
       "        vertical-align: middle;\n",
       "    }\n",
       "\n",
       "    .dataframe tbody tr th {\n",
       "        vertical-align: top;\n",
       "    }\n",
       "\n",
       "    .dataframe thead th {\n",
       "        text-align: right;\n",
       "    }\n",
       "</style>\n",
       "<table border=\"1\" class=\"dataframe\">\n",
       "  <thead>\n",
       "    <tr style=\"text-align: right;\">\n",
       "      <th></th>\n",
       "      <th>marketplace</th>\n",
       "      <th>customer_id</th>\n",
       "      <th>review_id</th>\n",
       "      <th>product_id</th>\n",
       "      <th>product_parent</th>\n",
       "      <th>product_title</th>\n",
       "      <th>product_category</th>\n",
       "      <th>star_rating</th>\n",
       "      <th>helpful_votes</th>\n",
       "      <th>total_votes</th>\n",
       "      <th>vine</th>\n",
       "      <th>verified_purchase</th>\n",
       "      <th>review_headline</th>\n",
       "      <th>review_body</th>\n",
       "      <th>review_date</th>\n",
       "    </tr>\n",
       "  </thead>\n",
       "  <tbody>\n",
       "    <tr>\n",
       "      <th>0</th>\n",
       "      <td>US</td>\n",
       "      <td>24509695</td>\n",
       "      <td>R3VR960AHLFKDV</td>\n",
       "      <td>B004HB5E0E</td>\n",
       "      <td>488241329</td>\n",
       "      <td>Shoal Creek Computer Desk</td>\n",
       "      <td>Furniture</td>\n",
       "      <td>4</td>\n",
       "      <td>0</td>\n",
       "      <td>0</td>\n",
       "      <td>N</td>\n",
       "      <td>Y</td>\n",
       "      <td>... desk is very study and it i has a beautifu...</td>\n",
       "      <td>This desk is very study and it i has  a beauti...</td>\n",
       "      <td>31-08-2015</td>\n",
       "    </tr>\n",
       "    <tr>\n",
       "      <th>1</th>\n",
       "      <td>US</td>\n",
       "      <td>34731776</td>\n",
       "      <td>R16LGVMFKIUT0G</td>\n",
       "      <td>B0042TNMMS</td>\n",
       "      <td>205864445</td>\n",
       "      <td>Dorel Home Products Delaney Large Rectangular ...</td>\n",
       "      <td>Furniture</td>\n",
       "      <td>5</td>\n",
       "      <td>0</td>\n",
       "      <td>0</td>\n",
       "      <td>N</td>\n",
       "      <td>Y</td>\n",
       "      <td>Five Stars</td>\n",
       "      <td>Great item</td>\n",
       "      <td>31-08-2015</td>\n",
       "    </tr>\n",
       "    <tr>\n",
       "      <th>2</th>\n",
       "      <td>US</td>\n",
       "      <td>1272331</td>\n",
       "      <td>R1AIMEEPYHMOE4</td>\n",
       "      <td>B0030MPBZ4</td>\n",
       "      <td>124663823</td>\n",
       "      <td>Bathroom Vanity Table Jewelry Makeup Desk Benc...</td>\n",
       "      <td>Furniture</td>\n",
       "      <td>5</td>\n",
       "      <td>1</td>\n",
       "      <td>1</td>\n",
       "      <td>N</td>\n",
       "      <td>Y</td>\n",
       "      <td>Five Stars</td>\n",
       "      <td>Perfect fit for my bedroom, been wanting one s...</td>\n",
       "      <td>31-08-2015</td>\n",
       "    </tr>\n",
       "    <tr>\n",
       "      <th>3</th>\n",
       "      <td>US</td>\n",
       "      <td>45284262</td>\n",
       "      <td>R1892CCSZWZ9SR</td>\n",
       "      <td>B005G02ESA</td>\n",
       "      <td>382367578</td>\n",
       "      <td>Sleep Master Ultima Comfort Memory Foam 6 Inch...</td>\n",
       "      <td>Furniture</td>\n",
       "      <td>3</td>\n",
       "      <td>0</td>\n",
       "      <td>0</td>\n",
       "      <td>N</td>\n",
       "      <td>Y</td>\n",
       "      <td>Good enough</td>\n",
       "      <td>We use this on a trundle bed.  So, it does not...</td>\n",
       "      <td>31-08-2015</td>\n",
       "    </tr>\n",
       "    <tr>\n",
       "      <th>4</th>\n",
       "      <td>US</td>\n",
       "      <td>30003523</td>\n",
       "      <td>R285P679YWVKD1</td>\n",
       "      <td>B005JS8AUA</td>\n",
       "      <td>309497463</td>\n",
       "      <td>1 1/4\" GashGuards: Deluxe Rubberized Plastic B...</td>\n",
       "      <td>Furniture</td>\n",
       "      <td>3</td>\n",
       "      <td>0</td>\n",
       "      <td>0</td>\n",
       "      <td>N</td>\n",
       "      <td>N</td>\n",
       "      <td>Gash Gards for daybed</td>\n",
       "      <td>The product is fine...just seemed like it took...</td>\n",
       "      <td>31-08-2015</td>\n",
       "    </tr>\n",
       "  </tbody>\n",
       "</table>\n",
       "</div>"
      ],
      "text/plain": [
       "  marketplace  customer_id       review_id  product_id  product_parent  \\\n",
       "0          US     24509695  R3VR960AHLFKDV  B004HB5E0E       488241329   \n",
       "1          US     34731776  R16LGVMFKIUT0G  B0042TNMMS       205864445   \n",
       "2          US      1272331  R1AIMEEPYHMOE4  B0030MPBZ4       124663823   \n",
       "3          US     45284262  R1892CCSZWZ9SR  B005G02ESA       382367578   \n",
       "4          US     30003523  R285P679YWVKD1  B005JS8AUA       309497463   \n",
       "\n",
       "                                       product_title product_category  \\\n",
       "0                          Shoal Creek Computer Desk        Furniture   \n",
       "1  Dorel Home Products Delaney Large Rectangular ...        Furniture   \n",
       "2  Bathroom Vanity Table Jewelry Makeup Desk Benc...        Furniture   \n",
       "3  Sleep Master Ultima Comfort Memory Foam 6 Inch...        Furniture   \n",
       "4  1 1/4\" GashGuards: Deluxe Rubberized Plastic B...        Furniture   \n",
       "\n",
       "   star_rating  helpful_votes  total_votes vine verified_purchase  \\\n",
       "0            4              0            0    N                 Y   \n",
       "1            5              0            0    N                 Y   \n",
       "2            5              1            1    N                 Y   \n",
       "3            3              0            0    N                 Y   \n",
       "4            3              0            0    N                 N   \n",
       "\n",
       "                                     review_headline  \\\n",
       "0  ... desk is very study and it i has a beautifu...   \n",
       "1                                         Five Stars   \n",
       "2                                         Five Stars   \n",
       "3                                        Good enough   \n",
       "4                              Gash Gards for daybed   \n",
       "\n",
       "                                         review_body review_date  \n",
       "0  This desk is very study and it i has  a beauti...  31-08-2015  \n",
       "1                                         Great item  31-08-2015  \n",
       "2  Perfect fit for my bedroom, been wanting one s...  31-08-2015  \n",
       "3  We use this on a trundle bed.  So, it does not...  31-08-2015  \n",
       "4  The product is fine...just seemed like it took...  31-08-2015  "
      ]
     },
     "execution_count": 3,
     "metadata": {},
     "output_type": "execute_result"
    }
   ],
   "source": [
    "df.head(5)"
   ]
  },
  {
   "cell_type": "code",
   "execution_count": 4,
   "id": "083f96a2",
   "metadata": {},
   "outputs": [
    {
     "name": "stderr",
     "output_type": "stream",
     "text": [
      "C:\\Users\\patil\\anaconda3\\lib\\site-packages\\seaborn\\_decorators.py:36: FutureWarning: Pass the following variable as a keyword arg: x. From version 0.12, the only valid positional argument will be `data`, and passing other arguments without an explicit keyword will result in an error or misinterpretation.\n",
      "  warnings.warn(\n"
     ]
    },
    {
     "data": {
      "image/png": "[encoded data removed]",
      "text/plain": [
       "<Figure size 432x360 with 1 Axes>"
      ]
     },
     "metadata": {
      "needs_background": "light"
     },
     "output_type": "display_data"
    }
   ],
   "source": [
    "# Analysizing total number of reviews received against each star rating.\n",
    "plt.figure(figsize = (6,5))\n",
    "sns.countplot(df['star_rating'])\n",
    "plt.title('Total Number of Reviews for Each Rating for the Furniture Category')\n",
    "plt.xlabel('Ratings')\n",
    "plt.ylabel('Number of Reviews Received')\n",
    "plt.show()"
   ]
  },
  {
   "cell_type": "code",
   "execution_count": 5,
   "id": "78a1621c",
   "metadata": {},
   "outputs": [
    {
     "name": "stderr",
     "output_type": "stream",
     "text": [
      "C:\\Users\\patil\\anaconda3\\lib\\site-packages\\pandas\\core\\indexes\\datetimes.py:327: UserWarning: Parsing '31-08-2015' in DD/MM/YYYY format. Provide format or specify infer_datetime_format=True for consistent parsing.\n",
      "  dtarr = DatetimeArray._from_sequence_not_strict(\n"
     ]
    }
   ],
   "source": [
    "#Converting date format to year\n",
    "df['year'] = pd.DatetimeIndex(df['review_date']).year"
   ]
  },
  {
   "cell_type": "code",
   "execution_count": 6,
   "id": "73946bed",
   "metadata": {},
   "outputs": [
    {
     "name": "stderr",
     "output_type": "stream",
     "text": [
      "C:\\Users\\patil\\anaconda3\\lib\\site-packages\\seaborn\\_decorators.py:36: FutureWarning: Pass the following variable as a keyword arg: x. From version 0.12, the only valid positional argument will be `data`, and passing other arguments without an explicit keyword will result in an error or misinterpretation.\n",
      "  warnings.warn(\n"
     ]
    },
    {
     "data": {
      "image/png": "[encoded data removed]",
      "text/plain": [
       "<Figure size 576x432 with 1 Axes>"
      ]
     },
     "metadata": {
      "needs_background": "light"
     },
     "output_type": "display_data"
    }
   ],
   "source": [
    "#Analyzing total number of reviews received year wise.\n",
    "plt.figure(figsize = (8,6))\n",
    "sns.countplot(df['year'])\n",
    "plt.xlabel('Year')\n",
    "plt.ylabel('Number of Reviews Received')\n",
    "plt.title('Total Number of Reviews Received each Year for Furniture Category')\n",
    "plt.show()"
   ]
  },
  {
   "cell_type": "code",
   "execution_count": 7,
   "id": "d077e447",
   "metadata": {},
   "outputs": [
    {
     "data": {
      "image/png": "[encoded data removed]",
      "text/plain": [
       "<Figure size 576x360 with 1 Axes>"
      ]
     },
     "metadata": {
      "needs_background": "light"
     },
     "output_type": "display_data"
    }
   ],
   "source": [
    "#Analyzing new customers year wise\n",
    "new_customer = df.groupby('year')['customer_id'].nunique()\n",
    "plt.figure(figsize = (8,5))\n",
    "new_customer.plot(kind='bar')\n",
    "plt.xlabel('Year')\n",
    "plt.ylabel('Number of New Customer')\n",
    "plt.title('New Customers received each Year for the Furniture Category')\n",
    "plt.show()"
   ]
  },
  {
   "cell_type": "code",
   "execution_count": 8,
   "id": "585500c8",
   "metadata": {},
   "outputs": [
    {
     "data": {
      "image/png": "[encoded data removed]",
      "text/plain": [
       "<Figure size 432x360 with 1 Axes>"
      ]
     },
     "metadata": {
      "needs_background": "light"
     },
     "output_type": "display_data"
    }
   ],
   "source": [
    "# Calculating the Helfulness ratio\n",
    "plt.figure(figsize = (6,5))\n",
    "df.groupby('star_rating')['helpful_votes'].mean().plot(kind='bar', color=['cyan', 'red', 'green', 'blue', 'black']) \n",
    "plt.title(\"Helpfulness in the Ratings Received by a Product\")\n",
    "plt.xlabel(\"Ratings\")\n",
    "plt.ylabel(\"Helpfulness Ratio\")\n",
    "plt.show()"
   ]
  },
  {
   "cell_type": "code",
   "execution_count": 9,
   "id": "c6a4fd8a",
   "metadata": {},
   "outputs": [
    {
     "data": {
      "text/html": [
       "<div>\n",
       "<style scoped>\n",
       "    .dataframe tbody tr th:only-of-type {\n",
       "        vertical-align: middle;\n",
       "    }\n",
       "\n",
       "    .dataframe tbody tr th {\n",
       "        vertical-align: top;\n",
       "    }\n",
       "\n",
       "    .dataframe thead th {\n",
       "        text-align: right;\n",
       "    }\n",
       "</style>\n",
       "<table border=\"1\" class=\"dataframe\">\n",
       "  <thead>\n",
       "    <tr style=\"text-align: right;\">\n",
       "      <th></th>\n",
       "      <th>marketplace</th>\n",
       "      <th>customer_id</th>\n",
       "      <th>review_id</th>\n",
       "      <th>product_id</th>\n",
       "      <th>product_parent</th>\n",
       "      <th>product_title</th>\n",
       "      <th>product_category</th>\n",
       "      <th>star_rating</th>\n",
       "      <th>helpful_votes</th>\n",
       "      <th>total_votes</th>\n",
       "      <th>vine</th>\n",
       "      <th>verified_purchase</th>\n",
       "      <th>review_headline</th>\n",
       "      <th>review_body</th>\n",
       "      <th>review_date</th>\n",
       "      <th>year</th>\n",
       "      <th>helpful</th>\n",
       "    </tr>\n",
       "  </thead>\n",
       "  <tbody>\n",
       "    <tr>\n",
       "      <th>0</th>\n",
       "      <td>US</td>\n",
       "      <td>24509695</td>\n",
       "      <td>R3VR960AHLFKDV</td>\n",
       "      <td>B004HB5E0E</td>\n",
       "      <td>488241329</td>\n",
       "      <td>Shoal Creek Computer Desk</td>\n",
       "      <td>Furniture</td>\n",
       "      <td>4</td>\n",
       "      <td>0</td>\n",
       "      <td>0</td>\n",
       "      <td>N</td>\n",
       "      <td>Y</td>\n",
       "      <td>... desk is very study and it i has a beautifu...</td>\n",
       "      <td>This desk is very study and it i has  a beauti...</td>\n",
       "      <td>31-08-2015</td>\n",
       "      <td>2015</td>\n",
       "      <td>N</td>\n",
       "    </tr>\n",
       "    <tr>\n",
       "      <th>1</th>\n",
       "      <td>US</td>\n",
       "      <td>34731776</td>\n",
       "      <td>R16LGVMFKIUT0G</td>\n",
       "      <td>B0042TNMMS</td>\n",
       "      <td>205864445</td>\n",
       "      <td>Dorel Home Products Delaney Large Rectangular ...</td>\n",
       "      <td>Furniture</td>\n",
       "      <td>5</td>\n",
       "      <td>0</td>\n",
       "      <td>0</td>\n",
       "      <td>N</td>\n",
       "      <td>Y</td>\n",
       "      <td>Five Stars</td>\n",
       "      <td>Great item</td>\n",
       "      <td>31-08-2015</td>\n",
       "      <td>2015</td>\n",
       "      <td>N</td>\n",
       "    </tr>\n",
       "    <tr>\n",
       "      <th>2</th>\n",
       "      <td>US</td>\n",
       "      <td>1272331</td>\n",
       "      <td>R1AIMEEPYHMOE4</td>\n",
       "      <td>B0030MPBZ4</td>\n",
       "      <td>124663823</td>\n",
       "      <td>Bathroom Vanity Table Jewelry Makeup Desk Benc...</td>\n",
       "      <td>Furniture</td>\n",
       "      <td>5</td>\n",
       "      <td>1</td>\n",
       "      <td>1</td>\n",
       "      <td>N</td>\n",
       "      <td>Y</td>\n",
       "      <td>Five Stars</td>\n",
       "      <td>Perfect fit for my bedroom, been wanting one s...</td>\n",
       "      <td>31-08-2015</td>\n",
       "      <td>2015</td>\n",
       "      <td>Y</td>\n",
       "    </tr>\n",
       "    <tr>\n",
       "      <th>3</th>\n",
       "      <td>US</td>\n",
       "      <td>45284262</td>\n",
       "      <td>R1892CCSZWZ9SR</td>\n",
       "      <td>B005G02ESA</td>\n",
       "      <td>382367578</td>\n",
       "      <td>Sleep Master Ultima Comfort Memory Foam 6 Inch...</td>\n",
       "      <td>Furniture</td>\n",
       "      <td>3</td>\n",
       "      <td>0</td>\n",
       "      <td>0</td>\n",
       "      <td>N</td>\n",
       "      <td>Y</td>\n",
       "      <td>Good enough</td>\n",
       "      <td>We use this on a trundle bed.  So, it does not...</td>\n",
       "      <td>31-08-2015</td>\n",
       "      <td>2015</td>\n",
       "      <td>N</td>\n",
       "    </tr>\n",
       "    <tr>\n",
       "      <th>4</th>\n",
       "      <td>US</td>\n",
       "      <td>30003523</td>\n",
       "      <td>R285P679YWVKD1</td>\n",
       "      <td>B005JS8AUA</td>\n",
       "      <td>309497463</td>\n",
       "      <td>1 1/4\" GashGuards: Deluxe Rubberized Plastic B...</td>\n",
       "      <td>Furniture</td>\n",
       "      <td>3</td>\n",
       "      <td>0</td>\n",
       "      <td>0</td>\n",
       "      <td>N</td>\n",
       "      <td>N</td>\n",
       "      <td>Gash Gards for daybed</td>\n",
       "      <td>The product is fine...just seemed like it took...</td>\n",
       "      <td>31-08-2015</td>\n",
       "      <td>2015</td>\n",
       "      <td>N</td>\n",
       "    </tr>\n",
       "  </tbody>\n",
       "</table>\n",
       "</div>"
      ],
      "text/plain": [
       "  marketplace  customer_id       review_id  product_id  product_parent  \\\n",
       "0          US     24509695  R3VR960AHLFKDV  B004HB5E0E       488241329   \n",
       "1          US     34731776  R16LGVMFKIUT0G  B0042TNMMS       205864445   \n",
       "2          US      1272331  R1AIMEEPYHMOE4  B0030MPBZ4       124663823   \n",
       "3          US     45284262  R1892CCSZWZ9SR  B005G02ESA       382367578   \n",
       "4          US     30003523  R285P679YWVKD1  B005JS8AUA       309497463   \n",
       "\n",
       "                                       product_title product_category  \\\n",
       "0                          Shoal Creek Computer Desk        Furniture   \n",
       "1  Dorel Home Products Delaney Large Rectangular ...        Furniture   \n",
       "2  Bathroom Vanity Table Jewelry Makeup Desk Benc...        Furniture   \n",
       "3  Sleep Master Ultima Comfort Memory Foam 6 Inch...        Furniture   \n",
       "4  1 1/4\" GashGuards: Deluxe Rubberized Plastic B...        Furniture   \n",
       "\n",
       "   star_rating  helpful_votes  total_votes vine verified_purchase  \\\n",
       "0            4              0            0    N                 Y   \n",
       "1            5              0            0    N                 Y   \n",
       "2            5              1            1    N                 Y   \n",
       "3            3              0            0    N                 Y   \n",
       "4            3              0            0    N                 N   \n",
       "\n",
       "                                     review_headline  \\\n",
       "0  ... desk is very study and it i has a beautifu...   \n",
       "1                                         Five Stars   \n",
       "2                                         Five Stars   \n",
       "3                                        Good enough   \n",
       "4                              Gash Gards for daybed   \n",
       "\n",
       "                                         review_body review_date  year helpful  \n",
       "0  This desk is very study and it i has  a beauti...  31-08-2015  2015       N  \n",
       "1                                         Great item  31-08-2015  2015       N  \n",
       "2  Perfect fit for my bedroom, been wanting one s...  31-08-2015  2015       Y  \n",
       "3  We use this on a trundle bed.  So, it does not...  31-08-2015  2015       N  \n",
       "4  The product is fine...just seemed like it took...  31-08-2015  2015       N  "
      ]
     },
     "execution_count": 9,
     "metadata": {},
     "output_type": "execute_result"
    }
   ],
   "source": [
    "#Classifying products as helpful or unhelpful.\n",
    "df1 = df.copy()\n",
    "def Helpful(x):\n",
    "    if x['total_votes'] >= 1:\n",
    "           return 'Y'\n",
    "    else: \n",
    "           return 'N'\n",
    "\n",
    "df1['helpful'] = df1.apply(Helpful, axis=1)\n",
    "\n",
    "df1.head(5)"
   ]
  }
 ],
 "metadata": {
  "kernelspec": {
   "display_name": "Python 3 (ipykernel)",
   "language": "python",
   "name": "python3"
  },
  "language_info": {
   "codemirror_mode": {
    "name": "ipython",
    "version": 3
   },
   "file_extension": ".py",
   "mimetype": "text/x-python",
   "name": "python",
   "nbconvert_exporter": "python",
   "pygments_lexer": "ipython3",
   "version": "3.9.12"
  }
 },
 "nbformat": 4,
 "nbformat_minor": 5
}
